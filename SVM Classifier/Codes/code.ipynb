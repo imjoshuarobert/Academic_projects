{
 "cells": [
  {
   "cell_type": "markdown",
   "metadata": {},
   "source": [
    "# conversion of XLSX to CSV"
   ]
  },
  {
   "cell_type": "code",
   "execution_count": 30,
   "metadata": {},
   "outputs": [
    {
     "name": "stdout",
     "output_type": "stream",
     "text": [
      "Conversion complete. Files saved as 'train_dataset.csv' and 'test_dataset.csv'.\n"
     ]
    }
   ],
   "source": [
    "import pandas as pd\n",
    "\n",
    "# Load the train and test datasets from the XLSX files, making sure no rows are skipped\n",
    "train_df = pd.read_excel('TrainingData.xlsx', header=None)  # No header in the dataset\n",
    "test_df = pd.read_excel('TestData.xlsx', header=None)    # No header in the dataset\n",
    "\n",
    "# Replace '?' with NaN (null) in the training data\n",
    "train_df.replace('?', pd.NA, inplace=True)\n",
    "\n",
    "# Save the cleaned datasets as CSV files, ensuring no rows are skipped\n",
    "train_df.to_csv('train_dataset.csv', index=False, header=False)  # Save without headers\n",
    "test_df.to_csv('test_dataset.csv', index=False, header=False)    # Save without headers\n",
    "\n",
    "print(\"Conversion complete. Files saved as 'train_dataset.csv' and 'test_dataset.csv'.\")"
   ]
  },
  {
   "cell_type": "markdown",
   "metadata": {},
   "source": [
    "# Library"
   ]
  },
  {
   "cell_type": "code",
   "execution_count": 59,
   "metadata": {},
   "outputs": [],
   "source": [
    "import pandas as pd\n",
    "import seaborn as sns\n",
    "import matplotlib.pyplot as plt\n",
    "from sklearn.svm import SVC\n",
    "import numpy as np\n",
    "from sklearn.model_selection import train_test_split\n"
   ]
  },
  {
   "cell_type": "markdown",
   "metadata": {},
   "source": [
    "# Dataset Visalization"
   ]
  },
  {
   "cell_type": "code",
   "execution_count": 60,
   "metadata": {},
   "outputs": [
    {
     "name": "stdout",
     "output_type": "stream",
     "text": [
      "Shape of train_df:\n",
      " (120, 5)\n",
      "Summary Statistics (Features Only):\n",
      "          Feature1    Feature2    Feature3    Feature4\n",
      "count  118.000000  120.000000  120.000000  119.000000\n",
      "mean     5.878814    3.052500    3.850833    1.236975\n",
      "std      0.915848    0.417065    2.083589    0.851705\n",
      "min      4.300000    2.200000    1.000000    0.100000\n",
      "25%      5.100000    2.800000    1.600000    0.300000\n",
      "50%      5.800000    3.000000    4.400000    1.300000\n",
      "75%      6.400000    3.300000    5.100000    1.800000\n",
      "max     10.600000    4.400000   16.000000    5.300000\n",
      "\n",
      "Correlation Matrix (Features Only):\n",
      "           Feature1  Feature2  Feature3  Feature4\n",
      "Feature1  1.000000 -0.116982  0.611312  0.570744\n",
      "Feature2 -0.116982  1.000000 -0.348324 -0.355262\n",
      "Feature3  0.611312 -0.348324  1.000000  0.800516\n",
      "Feature4  0.570744 -0.355262  0.800516  1.000000\n",
      "Null values in each feature:\n",
      " Feature1    2\n",
      "Feature2    0\n",
      "Feature3    0\n",
      "Feature4    1\n",
      "dtype: int64\n"
     ]
    }
   ],
   "source": [
    "\n",
    "# Load the train dataset without headers\n",
    "# We'll manually assign column names: 4 features and 1 label\n",
    "column_names = ['Feature1', 'Feature2', 'Feature3', 'Feature4', 'Label']\n",
    "train_df = pd.read_csv('train_dataset.csv', header=None, names=column_names)\n",
    "\n",
    "# Separate features (first 4 columns) and label (last column)\n",
    "features = train_df.iloc[:, :-1]  # Exclude the last column (labels)\n",
    "\n",
    "# Convert to numeric where possible (handles missing values and non-numeric data)\n",
    "features = features.apply(pd.to_numeric, errors='coerce')\n",
    "\n",
    "# Get summary statistics for the features\n",
    "summary_stats = features.describe()\n",
    "\n",
    "# Correlation matrix for the features\n",
    "correlation_matrix = features.corr()\n",
    "\n",
    "# Count null values in each feature\n",
    "null_counts = features.isnull().sum()\n",
    "\n",
    "\n",
    "print(\"Shape of train_df:\\n\", train_df.shape)\n",
    "\n",
    "# Display the results\n",
    "print(\"Summary Statistics (Features Only):\\n\", summary_stats)\n",
    "print(\"\\nCorrelation Matrix (Features Only):\\n\", correlation_matrix)\n",
    "\n",
    "# Display the count of null values per feature\n",
    "print(\"Null values in each feature:\\n\", null_counts)\n",
    "\n"
   ]
  },
  {
   "cell_type": "code",
   "execution_count": 61,
   "metadata": {},
   "outputs": [
    {
     "data": {
      "image/png": "[encoded data removed]",
      "text/plain": [
       "<Figure size 1200x600 with 1 Axes>"
      ]
     },
     "metadata": {},
     "output_type": "display_data"
    }
   ],
   "source": [
    "\n",
    "import seaborn as sns\n",
    "import matplotlib.pyplot as plt\n",
    "\n",
    "# Set the figure size\n",
    "plt.figure(figsize=(12, 6))\n",
    "\n",
    "# Create a box plot for each feature\n",
    "sns.boxplot(data=train_df.iloc[:, :-1])  # Exclude the last column (Label)\n",
    "\n",
    "# Add title and labels\n",
    "plt.title('Box Plot of Features')\n",
    "plt.xlabel('Features')\n",
    "plt.ylabel('Values')\n",
    "\n",
    "# Show the plot\n",
    "plt.xticks(rotation=45)  # Rotate x-axis labels for better readability\n",
    "plt.tight_layout()  # Adjust layout for better fit\n",
    "plt.show()"
   ]
  },
  {
   "cell_type": "markdown",
   "metadata": {},
   "source": [
    "# Removal of NUN and Outlier fro the data"
   ]
  },
  {
   "cell_type": "code",
   "execution_count": 62,
   "metadata": {},
   "outputs": [],
   "source": [
    "# Calculate the mean for each feature\n",
    "means = train_df.iloc[:, :-1].mean()\n",
    "\n",
    "# Replace NaN values with the mean of each feature\n",
    "train_df.fillna(means, inplace=True)\n",
    "\n",
    "# Function to replace outliers with mean\n",
    "def replace_outliers_with_mean(df):\n",
    "    for column in df.columns[:-1]:  # Exclude the last column (Label)\n",
    "        Q1 = df[column].quantile(0.25)\n",
    "        Q3 = df[column].quantile(0.75)\n",
    "        IQR = Q3 - Q1\n",
    "        lower_bound = Q1 - 1.5 * IQR\n",
    "        upper_bound = Q3 + 1.5 * IQR\n",
    "        \n",
    "        # Replace outliers with the mean\n",
    "        df.loc[(df[column] < lower_bound) | (df[column] > upper_bound), column] = means[column]\n",
    "    \n",
    "    return df\n",
    "\n",
    "# Replace outliers with mean values\n",
    "train_df = replace_outliers_with_mean(train_df)"
   ]
  },
  {
   "cell_type": "code",
   "execution_count": 63,
   "metadata": {},
   "outputs": [
    {
     "name": "stdout",
     "output_type": "stream",
     "text": [
      "Summary Statistics (Features Only):\n",
      "          Feature1    Feature2    Feature3    Feature4\n",
      "count  120.000000  120.000000  120.000000  120.000000\n",
      "mean     5.839470    3.032542    3.749590    1.203116\n",
      "std      0.797379    0.386086    1.758025    0.761200\n",
      "min      4.300000    2.200000    1.000000    0.100000\n",
      "25%      5.100000    2.800000    1.600000    0.300000\n",
      "50%      5.800000    3.000000    4.350000    1.300000\n",
      "75%      6.325000    3.300000    5.100000    1.800000\n",
      "max      7.700000    3.900000    6.900000    2.500000\n",
      "\n",
      "Correlation Matrix (Features Only):\n",
      "           Feature1  Feature2  Feature3  Feature4\n",
      "Feature1  1.000000 -0.138234  0.851684  0.788468\n",
      "Feature2 -0.138234  1.000000 -0.416478 -0.345858\n",
      "Feature3  0.851684 -0.416478  1.000000  0.949121\n",
      "Feature4  0.788468 -0.345858  0.949121  1.000000\n",
      "Null values in each feature:\n",
      " Feature1    0\n",
      "Feature2    0\n",
      "Feature3    0\n",
      "Feature4    0\n",
      "dtype: int64\n"
     ]
    }
   ],
   "source": [
    "features = train_df.iloc[:, :-1]\n",
    "\n",
    "# Get summary statistics for the features\n",
    "summary_stats = features.describe()\n",
    "\n",
    "# Correlation matrix for the features\n",
    "correlation_matrix = features.corr()\n",
    "\n",
    "# Display the results\n",
    "print(\"Summary Statistics (Features Only):\\n\", summary_stats)\n",
    "print(\"\\nCorrelation Matrix (Features Only):\\n\", correlation_matrix)\n",
    "\n",
    "# Count null values in each feature\n",
    "null_counts = features.isnull().sum()\n",
    "\n",
    "# Display the count of null values per feature\n",
    "print(\"Null values in each feature:\\n\", null_counts)"
   ]
  },
  {
   "cell_type": "code",
   "execution_count": 64,
   "metadata": {},
   "outputs": [
    {
     "data": {
      "image/png": "[encoded data removed]",
      "text/plain": [
       "<Figure size 1200x600 with 1 Axes>"
      ]
     },
     "metadata": {},
     "output_type": "display_data"
    }
   ],
   "source": [
    "# Set the figure size\n",
    "plt.figure(figsize=(12, 6))\n",
    "\n",
    "# Create a box plot for each feature\n",
    "sns.boxplot(data=train_df.iloc[:, :-1])  # Exclude the last column (Label)\n",
    "\n",
    "# Add title and labels\n",
    "plt.title('Box Plot of Features')\n",
    "plt.xlabel('Features')\n",
    "plt.ylabel('Values')\n",
    "\n",
    "# Show the plot\n",
    "plt.xticks(rotation=45)  # Rotate x-axis labels for better readability\n",
    "plt.tight_layout()  # Adjust layout for better fit\n",
    "plt.show()"
   ]
  },
  {
   "cell_type": "markdown",
   "metadata": {},
   "source": [
    "# SVM Classifier"
   ]
  },
  {
   "cell_type": "code",
   "execution_count": 65,
   "metadata": {},
   "outputs": [
    {
     "name": "stdout",
     "output_type": "stream",
     "text": [
      "(30, 4)\n",
      "Predicted labels for the test dataset: [1 1 1 1 1 1 1 1 1 1 2 2 2 2 2 2 2 2 2 2 2 3 3 3 3 3 3 3 3 3]\n"
     ]
    }
   ],
   "source": [
    "from sklearn.svm import SVC\n",
    "import numpy as np\n",
    "from sklearn.model_selection import train_test_split\n",
    "\n",
    "# Separate features and labels\n",
    "X_train = train_df.iloc[:, :-1]  # Features\n",
    "y_train = train_df['Label']        # Labels\n",
    "\n",
    "# Load the converted test dataset from CSV without headers\n",
    "test_df = pd.read_csv('test_dataset.csv', header=None)\n",
    "\n",
    "# Assign column names manually: 4 features and 1 label\n",
    "test_df.columns = ['Feature1', 'Feature2', 'Feature3', 'Feature4']\n",
    "\n",
    "# Replace '?' with NaN (null) in test data\n",
    "test_df.replace('?', pd.NA, inplace=True)\n",
    "\n",
    "# Convert to numeric where possible\n",
    "test_df = test_df.apply(pd.to_numeric, errors='coerce')\n",
    "\n",
    "print(test_df.shape)\n",
    "\n",
    "# Replace NaN values in test data with the mean of training data\n",
    "test_df.fillna(means, inplace=True)\n",
    "\n",
    "# Train the SVM classifier\n",
    "svm_classifier = SVC(kernel='linear')  # You can also try other kernels like 'rbf', 'poly', etc.\n",
    "svm_classifier.fit(X_train, y_train)\n",
    "\n",
    "# Predict labels on the test dataset\n",
    "predictions = svm_classifier.predict(test_df)\n",
    "\n",
    "# Print the predicted labels\n",
    "print(\"Predicted labels for the test dataset:\", predictions)"
   ]
  },
  {
   "cell_type": "code",
   "execution_count": null,
   "metadata": {},
   "outputs": [],
   "source": []
  }
 ],
 "metadata": {
  "kernelspec": {
   "display_name": "base",
   "language": "python",
   "name": "python3"
  },
  "language_info": {
   "codemirror_mode": {
    "name": "ipython",
    "version": 3
   },
   "file_extension": ".py",
   "mimetype": "text/x-python",
   "name": "python",
   "nbconvert_exporter": "python",
   "pygments_lexer": "ipython3",
   "version": "3.11.7"
  }
 },
 "nbformat": 4,
 "nbformat_minor": 2
}
